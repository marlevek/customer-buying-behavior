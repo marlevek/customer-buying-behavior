{
 "cells": [
  {
   "cell_type": "code",
   "execution_count": 25,
   "metadata": {},
   "outputs": [],
   "source": [
    "import pandas as pd\n",
    "import matplotlib.pyplot as plt\n",
    "import seaborn as sns\n",
    "import plotly.express as px\n",
    "from sklearn.model_selection import train_test_split\n",
    "from sklearn.ensemble import RandomForestClassifier\n",
    "from sklearn.metrics import classification_report, confusion_matrix, accuracy_score\n",
    "from catboost import CatBoostClassifier\n",
    "from xgboost import XGBRFClassifier"
   ]
  },
  {
   "cell_type": "markdown",
   "metadata": {},
   "source": [
    "1. CARREGAMENTO DOS DADOS"
   ]
  },
  {
   "cell_type": "code",
   "execution_count": 2,
   "metadata": {},
   "outputs": [
    {
     "data": {
      "text/html": [
       "<div>\n",
       "<style scoped>\n",
       "    .dataframe tbody tr th:only-of-type {\n",
       "        vertical-align: middle;\n",
       "    }\n",
       "\n",
       "    .dataframe tbody tr th {\n",
       "        vertical-align: top;\n",
       "    }\n",
       "\n",
       "    .dataframe thead th {\n",
       "        text-align: right;\n",
       "    }\n",
       "</style>\n",
       "<table border=\"1\" class=\"dataframe\">\n",
       "  <thead>\n",
       "    <tr style=\"text-align: right;\">\n",
       "      <th></th>\n",
       "      <th>num_passengers</th>\n",
       "      <th>sales_channel</th>\n",
       "      <th>trip_type</th>\n",
       "      <th>purchase_lead</th>\n",
       "      <th>length_of_stay</th>\n",
       "      <th>flight_hour</th>\n",
       "      <th>flight_day</th>\n",
       "      <th>route</th>\n",
       "      <th>booking_origin</th>\n",
       "      <th>wants_extra_baggage</th>\n",
       "      <th>wants_preferred_seat</th>\n",
       "      <th>wants_in_flight_meals</th>\n",
       "      <th>flight_duration</th>\n",
       "      <th>booking_complete</th>\n",
       "    </tr>\n",
       "  </thead>\n",
       "  <tbody>\n",
       "    <tr>\n",
       "      <th>0</th>\n",
       "      <td>2</td>\n",
       "      <td>Internet</td>\n",
       "      <td>RoundTrip</td>\n",
       "      <td>261</td>\n",
       "      <td>19</td>\n",
       "      <td>7</td>\n",
       "      <td>Sat</td>\n",
       "      <td>AKLDEL</td>\n",
       "      <td>New Zealand</td>\n",
       "      <td>1</td>\n",
       "      <td>0</td>\n",
       "      <td>0</td>\n",
       "      <td>5.52</td>\n",
       "      <td>0</td>\n",
       "    </tr>\n",
       "    <tr>\n",
       "      <th>1</th>\n",
       "      <td>1</td>\n",
       "      <td>Internet</td>\n",
       "      <td>RoundTrip</td>\n",
       "      <td>112</td>\n",
       "      <td>20</td>\n",
       "      <td>3</td>\n",
       "      <td>Sat</td>\n",
       "      <td>AKLDEL</td>\n",
       "      <td>New Zealand</td>\n",
       "      <td>0</td>\n",
       "      <td>0</td>\n",
       "      <td>0</td>\n",
       "      <td>5.52</td>\n",
       "      <td>0</td>\n",
       "    </tr>\n",
       "    <tr>\n",
       "      <th>2</th>\n",
       "      <td>2</td>\n",
       "      <td>Internet</td>\n",
       "      <td>RoundTrip</td>\n",
       "      <td>243</td>\n",
       "      <td>22</td>\n",
       "      <td>17</td>\n",
       "      <td>Wed</td>\n",
       "      <td>AKLDEL</td>\n",
       "      <td>India</td>\n",
       "      <td>1</td>\n",
       "      <td>1</td>\n",
       "      <td>0</td>\n",
       "      <td>5.52</td>\n",
       "      <td>0</td>\n",
       "    </tr>\n",
       "    <tr>\n",
       "      <th>3</th>\n",
       "      <td>1</td>\n",
       "      <td>Internet</td>\n",
       "      <td>RoundTrip</td>\n",
       "      <td>96</td>\n",
       "      <td>31</td>\n",
       "      <td>4</td>\n",
       "      <td>Sat</td>\n",
       "      <td>AKLDEL</td>\n",
       "      <td>New Zealand</td>\n",
       "      <td>0</td>\n",
       "      <td>0</td>\n",
       "      <td>1</td>\n",
       "      <td>5.52</td>\n",
       "      <td>0</td>\n",
       "    </tr>\n",
       "    <tr>\n",
       "      <th>4</th>\n",
       "      <td>2</td>\n",
       "      <td>Internet</td>\n",
       "      <td>RoundTrip</td>\n",
       "      <td>68</td>\n",
       "      <td>22</td>\n",
       "      <td>15</td>\n",
       "      <td>Wed</td>\n",
       "      <td>AKLDEL</td>\n",
       "      <td>India</td>\n",
       "      <td>1</td>\n",
       "      <td>0</td>\n",
       "      <td>1</td>\n",
       "      <td>5.52</td>\n",
       "      <td>0</td>\n",
       "    </tr>\n",
       "  </tbody>\n",
       "</table>\n",
       "</div>"
      ],
      "text/plain": [
       "   num_passengers sales_channel  ... flight_duration  booking_complete\n",
       "0               2      Internet  ...            5.52                 0\n",
       "1               1      Internet  ...            5.52                 0\n",
       "2               2      Internet  ...            5.52                 0\n",
       "3               1      Internet  ...            5.52                 0\n",
       "4               2      Internet  ...            5.52                 0\n",
       "\n",
       "[5 rows x 14 columns]"
      ]
     },
     "execution_count": 2,
     "metadata": {},
     "output_type": "execute_result"
    }
   ],
   "source": [
    "df = pd.read_csv('customer_booking.csv')\n",
    "df.head()"
   ]
  },
  {
   "cell_type": "markdown",
   "metadata": {},
   "source": [
    "2. ANÁLISE EXPLORATÓRIA"
   ]
  },
  {
   "cell_type": "code",
   "execution_count": 3,
   "metadata": {},
   "outputs": [
    {
     "name": "stdout",
     "output_type": "stream",
     "text": [
      "<class 'pandas.core.frame.DataFrame'>\n",
      "RangeIndex: 50000 entries, 0 to 49999\n",
      "Data columns (total 14 columns):\n",
      " #   Column                 Non-Null Count  Dtype  \n",
      "---  ------                 --------------  -----  \n",
      " 0   num_passengers         50000 non-null  int64  \n",
      " 1   sales_channel          50000 non-null  object \n",
      " 2   trip_type              50000 non-null  object \n",
      " 3   purchase_lead          50000 non-null  int64  \n",
      " 4   length_of_stay         50000 non-null  int64  \n",
      " 5   flight_hour            50000 non-null  int64  \n",
      " 6   flight_day             50000 non-null  object \n",
      " 7   route                  50000 non-null  object \n",
      " 8   booking_origin         50000 non-null  object \n",
      " 9   wants_extra_baggage    50000 non-null  int64  \n",
      " 10  wants_preferred_seat   50000 non-null  int64  \n",
      " 11  wants_in_flight_meals  50000 non-null  int64  \n",
      " 12  flight_duration        50000 non-null  float64\n",
      " 13  booking_complete       50000 non-null  int64  \n",
      "dtypes: float64(1), int64(8), object(5)\n",
      "memory usage: 5.3+ MB\n"
     ]
    }
   ],
   "source": [
    "# Informação sobre a base de dados\n",
    "df.info()"
   ]
  },
  {
   "cell_type": "code",
   "execution_count": 4,
   "metadata": {},
   "outputs": [
    {
     "data": {
      "text/plain": [
       "num_passengers           0\n",
       "sales_channel            0\n",
       "trip_type                0\n",
       "purchase_lead            0\n",
       "length_of_stay           0\n",
       "flight_hour              0\n",
       "flight_day               0\n",
       "route                    0\n",
       "booking_origin           0\n",
       "wants_extra_baggage      0\n",
       "wants_preferred_seat     0\n",
       "wants_in_flight_meals    0\n",
       "flight_duration          0\n",
       "booking_complete         0\n",
       "dtype: int64"
      ]
     },
     "execution_count": 4,
     "metadata": {},
     "output_type": "execute_result"
    }
   ],
   "source": [
    "# Há dados ausentes, nulos?\n",
    "df.isna().sum()"
   ]
  },
  {
   "cell_type": "code",
   "execution_count": 5,
   "metadata": {},
   "outputs": [
    {
     "data": {
      "text/plain": [
       "sales_channel\n",
       "Internet    44382\n",
       "Mobile       5618\n",
       "Name: count, dtype: int64"
      ]
     },
     "execution_count": 5,
     "metadata": {},
     "output_type": "execute_result"
    }
   ],
   "source": [
    "# Canais de compra da passagem\n",
    "df.sales_channel.value_counts()"
   ]
  },
  {
   "cell_type": "code",
   "execution_count": 6,
   "metadata": {},
   "outputs": [
    {
     "data": {
      "text/plain": [
       "trip_type\n",
       "RoundTrip     49497\n",
       "OneWay          387\n",
       "CircleTrip      116\n",
       "Name: count, dtype: int64"
      ]
     },
     "execution_count": 6,
     "metadata": {},
     "output_type": "execute_result"
    }
   ],
   "source": [
    "# Tipo de viagem\n",
    "df.trip_type.value_counts()"
   ]
  },
  {
   "cell_type": "code",
   "execution_count": 7,
   "metadata": {},
   "outputs": [
    {
     "data": {
      "text/plain": [
       "<Axes: xlabel='trip_type', ylabel='count'>"
      ]
     },
     "execution_count": 7,
     "metadata": {},
     "output_type": "execute_result"
    },
    {
     "data": {
      "image/png": "[encoded data removed]",
      "text/plain": [
       "<Figure size 432x288 with 1 Axes>"
      ]
     },
     "metadata": {
      "needs_background": "light"
     },
     "output_type": "display_data"
    }
   ],
   "source": [
    "sns.countplot(df, x='trip_type')"
   ]
  },
  {
   "cell_type": "code",
   "execution_count": 8,
   "metadata": {},
   "outputs": [
    {
     "data": {
      "text/plain": [
       "<Axes: xlabel='booking_complete', ylabel='count'>"
      ]
     },
     "execution_count": 8,
     "metadata": {},
     "output_type": "execute_result"
    },
    {
     "data": {
      "image/png": "[encoded data removed]",
      "text/plain": [
       "<Figure size 432x288 with 1 Axes>"
      ]
     },
     "metadata": {
      "needs_background": "light"
     },
     "output_type": "display_data"
    }
   ],
   "source": [
    "# Reservas completadas (0=não, 1=sim)\n",
    "sns.countplot(df, x='booking_complete')"
   ]
  },
  {
   "cell_type": "code",
   "execution_count": 9,
   "metadata": {},
   "outputs": [
    {
     "data": {
      "application/vnd.plotly.v1+json": {
       "config": {
        "plotlyServerURL": "https://plot.ly"
       },
       "data": [
        {
         "alignmentgroup": "True",
         "hovertemplate": "Country=%{x}<br>Count=%{y}<extra></extra>",
         "legendgroup": "",
         "marker": {
          "color": "#636efa",
          "pattern": {
           "shape": ""
          }
         },
         "name": "",
         "offsetgroup": "",
         "orientation": "v",
         "showlegend": false,
         "textposition": "auto",
         "type": "bar",
         "x": [
          "Australia",
          "Malaysia",
          "South Korea",
          "Japan",
          "China",
          "Indonesia",
          "Taiwan",
          "Thailand",
          "India",
          "New Zealand",
          "Singapore",
          "United States",
          "Vietnam",
          "Macau",
          "Hong Kong",
          "Philippines",
          "United Kingdom",
          "Brunei",
          "Cambodia",
          "(not set)",
          "Sri Lanka",
          "France",
          "Italy",
          "Canada",
          "Germany",
          "Myanmar (Burma)",
          "Netherlands",
          "Mauritius",
          "United Arab Emirates",
          "Nepal",
          "Bangladesh",
          "Saudi Arabia",
          "Russia",
          "Spain",
          "Laos",
          "Switzerland",
          "Chile",
          "Qatar",
          "Iran",
          "Sweden",
          "R�union",
          "Oman",
          "Kuwait",
          "Brazil",
          "Turkey",
          "Mexico",
          "Ireland",
          "Mongolia",
          "Austria",
          "Poland",
          "Czech Republic",
          "Finland",
          "Maldives",
          "Denmark",
          "Belgium",
          "Greece",
          "Argentina",
          "New Caledonia",
          "Portugal",
          "Ukraine",
          "Norway",
          "Bahrain",
          "Peru",
          "Colombia",
          "Romania",
          "South Africa",
          "Kenya",
          "Kazakhstan",
          "Hungary",
          "Israel",
          "Slovenia",
          "Solomon Islands",
          "Guam",
          "Timor-Leste",
          "Cyprus",
          "Croatia",
          "Tunisia",
          "Vanuatu",
          "Czechia",
          "Malta",
          "Gibraltar",
          "Belarus",
          "Pakistan",
          "Iraq",
          "Ghana",
          "Seychelles",
          "Guatemala",
          "Algeria",
          "Afghanistan",
          "Lebanon",
          "Estonia",
          "Paraguay",
          "Papua New Guinea",
          "Jordan",
          "Egypt",
          "Nicaragua",
          "Slovakia",
          "Norfolk Island",
          "Bhutan",
          "Panama",
          "Tonga",
          "Tanzania",
          "Bulgaria",
          "Svalbard & Jan Mayen"
         ],
         "xaxis": "x",
         "y": [
          17872,
          7174,
          4559,
          3885,
          3387,
          2369,
          2077,
          2030,
          1270,
          1074,
          1044,
          456,
          388,
          304,
          295,
          266,
          173,
          167,
          132,
          84,
          73,
          59,
          58,
          57,
          57,
          51,
          46,
          44,
          42,
          40,
          36,
          36,
          32,
          27,
          25,
          18,
          17,
          15,
          14,
          12,
          12,
          9,
          9,
          9,
          9,
          9,
          9,
          8,
          8,
          8,
          8,
          8,
          8,
          7,
          7,
          7,
          6,
          6,
          6,
          5,
          5,
          5,
          4,
          4,
          4,
          3,
          3,
          3,
          3,
          2,
          2,
          2,
          2,
          2,
          2,
          2,
          2,
          1,
          1,
          1,
          1,
          1,
          1,
          1,
          1,
          1,
          1,
          1,
          1,
          1,
          1,
          1,
          1,
          1,
          1,
          1,
          1,
          1,
          1,
          1,
          1,
          1,
          1,
          1
         ],
         "yaxis": "y"
        }
       ],
       "layout": {
        "barmode": "relative",
        "legend": {
         "tracegroupgap": 0
        },
        "template": {
         "data": {
          "bar": [
           {
            "error_x": {
             "color": "#2a3f5f"
            },
            "error_y": {
             "color": "#2a3f5f"
            },
            "marker": {
             "line": {
              "color": "#E5ECF6",
              "width": 0.5
             },
             "pattern": {
              "fillmode": "overlay",
              "size": 10,
              "solidity": 0.2
             }
            },
            "type": "bar"
           }
          ],
          "barpolar": [
           {
            "marker": {
             "line": {
              "color": "#E5ECF6",
              "width": 0.5
             },
             "pattern": {
              "fillmode": "overlay",
              "size": 10,
              "solidity": 0.2
             }
            },
            "type": "barpolar"
           }
          ],
          "carpet": [
           {
            "aaxis": {
             "endlinecolor": "#2a3f5f",
             "gridcolor": "white",
             "linecolor": "white",
             "minorgridcolor": "white",
             "startlinecolor": "#2a3f5f"
            },
            "baxis": {
             "endlinecolor": "#2a3f5f",
             "gridcolor": "white",
             "linecolor": "white",
             "minorgridcolor": "white",
             "startlinecolor": "#2a3f5f"
            },
            "type": "carpet"
           }
          ],
          "choropleth": [
           {
            "colorbar": {
             "outlinewidth": 0,
             "ticks": ""
            },
            "type": "choropleth"
           }
          ],
          "contour": [
           {
            "colorbar": {
             "outlinewidth": 0,
             "ticks": ""
            },
            "colorscale": [
             [
              0,
              "#0d0887"
             ],
             [
              0.1111111111111111,
              "#46039f"
             ],
             [
              0.2222222222222222,
              "#7201a8"
             ],
             [
              0.3333333333333333,
              "#9c179e"
             ],
             [
              0.4444444444444444,
              "#bd3786"
             ],
             [
              0.5555555555555556,
              "#d8576b"
             ],
             [
              0.6666666666666666,
              "#ed7953"
             ],
             [
              0.7777777777777778,
              "#fb9f3a"
             ],
             [
              0.8888888888888888,
              "#fdca26"
             ],
             [
              1,
              "#f0f921"
             ]
            ],
            "type": "contour"
           }
          ],
          "contourcarpet": [
           {
            "colorbar": {
             "outlinewidth": 0,
             "ticks": ""
            },
            "type": "contourcarpet"
           }
          ],
          "heatmap": [
           {
            "colorbar": {
             "outlinewidth": 0,
             "ticks": ""
            },
            "colorscale": [
             [
              0,
              "#0d0887"
             ],
             [
              0.1111111111111111,
              "#46039f"
             ],
             [
              0.2222222222222222,
              "#7201a8"
             ],
             [
              0.3333333333333333,
              "#9c179e"
             ],
             [
              0.4444444444444444,
              "#bd3786"
             ],
             [
              0.5555555555555556,
              "#d8576b"
             ],
             [
              0.6666666666666666,
              "#ed7953"
             ],
             [
              0.7777777777777778,
              "#fb9f3a"
             ],
             [
              0.8888888888888888,
              "#fdca26"
             ],
             [
              1,
              "#f0f921"
             ]
            ],
            "type": "heatmap"
           }
          ],
          "heatmapgl": [
           {
            "colorbar": {
             "outlinewidth": 0,
             "ticks": ""
            },
            "colorscale": [
             [
              0,
              "#0d0887"
             ],
             [
              0.1111111111111111,
              "#46039f"
             ],
             [
              0.2222222222222222,
              "#7201a8"
             ],
             [
              0.3333333333333333,
              "#9c179e"
             ],
             [
              0.4444444444444444,
              "#bd3786"
             ],
             [
              0.5555555555555556,
              "#d8576b"
             ],
             [
              0.6666666666666666,
              "#ed7953"
             ],
             [
              0.7777777777777778,
              "#fb9f3a"
             ],
             [
              0.8888888888888888,
              "#fdca26"
             ],
             [
              1,
              "#f0f921"
             ]
            ],
            "type": "heatmapgl"
           }
          ],
          "histogram": [
           {
            "marker": {
             "pattern": {
              "fillmode": "overlay",
              "size": 10,
              "solidity": 0.2
             }
            },
            "type": "histogram"
           }
          ],
          "histogram2d": [
           {
            "colorbar": {
             "outlinewidth": 0,
             "ticks": ""
            },
            "colorscale": [
             [
              0,
              "#0d0887"
             ],
             [
              0.1111111111111111,
              "#46039f"
             ],
             [
              0.2222222222222222,
              "#7201a8"
             ],
             [
              0.3333333333333333,
              "#9c179e"
             ],
             [
              0.4444444444444444,
              "#bd3786"
             ],
             [
              0.5555555555555556,
              "#d8576b"
             ],
             [
              0.6666666666666666,
              "#ed7953"
             ],
             [
              0.7777777777777778,
              "#fb9f3a"
             ],
             [
              0.8888888888888888,
              "#fdca26"
             ],
             [
              1,
              "#f0f921"
             ]
            ],
            "type": "histogram2d"
           }
          ],
          "histogram2dcontour": [
           {
            "colorbar": {
             "outlinewidth": 0,
             "ticks": ""
            },
            "colorscale": [
             [
              0,
              "#0d0887"
             ],
             [
              0.1111111111111111,
              "#46039f"
             ],
             [
              0.2222222222222222,
              "#7201a8"
             ],
             [
              0.3333333333333333,
              "#9c179e"
             ],
             [
              0.4444444444444444,
              "#bd3786"
             ],
             [
              0.5555555555555556,
              "#d8576b"
             ],
             [
              0.6666666666666666,
              "#ed7953"
             ],
             [
              0.7777777777777778,
              "#fb9f3a"
             ],
             [
              0.8888888888888888,
              "#fdca26"
             ],
             [
              1,
              "#f0f921"
             ]
            ],
            "type": "histogram2dcontour"
           }
          ],
          "mesh3d": [
           {
            "colorbar": {
             "outlinewidth": 0,
             "ticks": ""
            },
            "type": "mesh3d"
           }
          ],
          "parcoords": [
           {
            "line": {
             "colorbar": {
              "outlinewidth": 0,
              "ticks": ""
             }
            },
            "type": "parcoords"
           }
          ],
          "pie": [
           {
            "automargin": true,
            "type": "pie"
           }
          ],
          "scatter": [
           {
            "fillpattern": {
             "fillmode": "overlay",
             "size": 10,
             "solidity": 0.2
            },
            "type": "scatter"
           }
          ],
          "scatter3d": [
           {
            "line": {
             "colorbar": {
              "outlinewidth": 0,
              "ticks": ""
             }
            },
            "marker": {
             "colorbar": {
              "outlinewidth": 0,
              "ticks": ""
             }
            },
            "type": "scatter3d"
           }
          ],
          "scattercarpet": [
           {
            "marker": {
             "colorbar": {
              "outlinewidth": 0,
              "ticks": ""
             }
            },
            "type": "scattercarpet"
           }
          ],
          "scattergeo": [
           {
            "marker": {
             "colorbar": {
              "outlinewidth": 0,
              "ticks": ""
             }
            },
            "type": "scattergeo"
           }
          ],
          "scattergl": [
           {
            "marker": {
             "colorbar": {
              "outlinewidth": 0,
              "ticks": ""
             }
            },
            "type": "scattergl"
           }
          ],
          "scattermapbox": [
           {
            "marker": {
             "colorbar": {
              "outlinewidth": 0,
              "ticks": ""
             }
            },
            "type": "scattermapbox"
           }
          ],
          "scatterpolar": [
           {
            "marker": {
             "colorbar": {
              "outlinewidth": 0,
              "ticks": ""
             }
            },
            "type": "scatterpolar"
           }
          ],
          "scatterpolargl": [
           {
            "marker": {
             "colorbar": {
              "outlinewidth": 0,
              "ticks": ""
             }
            },
            "type": "scatterpolargl"
           }
          ],
          "scatterternary": [
           {
            "marker": {
             "colorbar": {
              "outlinewidth": 0,
              "ticks": ""
             }
            },
            "type": "scatterternary"
           }
          ],
          "surface": [
           {
            "colorbar": {
             "outlinewidth": 0,
             "ticks": ""
            },
            "colorscale": [
             [
              0,
              "#0d0887"
             ],
             [
              0.1111111111111111,
              "#46039f"
             ],
             [
              0.2222222222222222,
              "#7201a8"
             ],
             [
              0.3333333333333333,
              "#9c179e"
             ],
             [
              0.4444444444444444,
              "#bd3786"
             ],
             [
              0.5555555555555556,
              "#d8576b"
             ],
             [
              0.6666666666666666,
              "#ed7953"
             ],
             [
              0.7777777777777778,
              "#fb9f3a"
             ],
             [
              0.8888888888888888,
              "#fdca26"
             ],
             [
              1,
              "#f0f921"
             ]
            ],
            "type": "surface"
           }
          ],
          "table": [
           {
            "cells": {
             "fill": {
              "color": "#EBF0F8"
             },
             "line": {
              "color": "white"
             }
            },
            "header": {
             "fill": {
              "color": "#C8D4E3"
             },
             "line": {
              "color": "white"
             }
            },
            "type": "table"
           }
          ]
         },
         "layout": {
          "annotationdefaults": {
           "arrowcolor": "#2a3f5f",
           "arrowhead": 0,
           "arrowwidth": 1
          },
          "autotypenumbers": "strict",
          "coloraxis": {
           "colorbar": {
            "outlinewidth": 0,
            "ticks": ""
           }
          },
          "colorscale": {
           "diverging": [
            [
             0,
             "#8e0152"
            ],
            [
             0.1,
             "#c51b7d"
            ],
            [
             0.2,
             "#de77ae"
            ],
            [
             0.3,
             "#f1b6da"
            ],
            [
             0.4,
             "#fde0ef"
            ],
            [
             0.5,
             "#f7f7f7"
            ],
            [
             0.6,
             "#e6f5d0"
            ],
            [
             0.7,
             "#b8e186"
            ],
            [
             0.8,
             "#7fbc41"
            ],
            [
             0.9,
             "#4d9221"
            ],
            [
             1,
             "#276419"
            ]
           ],
           "sequential": [
            [
             0,
             "#0d0887"
            ],
            [
             0.1111111111111111,
             "#46039f"
            ],
            [
             0.2222222222222222,
             "#7201a8"
            ],
            [
             0.3333333333333333,
             "#9c179e"
            ],
            [
             0.4444444444444444,
             "#bd3786"
            ],
            [
             0.5555555555555556,
             "#d8576b"
            ],
            [
             0.6666666666666666,
             "#ed7953"
            ],
            [
             0.7777777777777778,
             "#fb9f3a"
            ],
            [
             0.8888888888888888,
             "#fdca26"
            ],
            [
             1,
             "#f0f921"
            ]
           ],
           "sequentialminus": [
            [
             0,
             "#0d0887"
            ],
            [
             0.1111111111111111,
             "#46039f"
            ],
            [
             0.2222222222222222,
             "#7201a8"
            ],
            [
             0.3333333333333333,
             "#9c179e"
            ],
            [
             0.4444444444444444,
             "#bd3786"
            ],
            [
             0.5555555555555556,
             "#d8576b"
            ],
            [
             0.6666666666666666,
             "#ed7953"
            ],
            [
             0.7777777777777778,
             "#fb9f3a"
            ],
            [
             0.8888888888888888,
             "#fdca26"
            ],
            [
             1,
             "#f0f921"
            ]
           ]
          },
          "colorway": [
           "#636efa",
           "#EF553B",
           "#00cc96",
           "#ab63fa",
           "#FFA15A",
           "#19d3f3",
           "#FF6692",
           "#B6E880",
           "#FF97FF",
           "#FECB52"
          ],
          "font": {
           "color": "#2a3f5f"
          },
          "geo": {
           "bgcolor": "white",
           "lakecolor": "white",
           "landcolor": "#E5ECF6",
           "showlakes": true,
           "showland": true,
           "subunitcolor": "white"
          },
          "hoverlabel": {
           "align": "left"
          },
          "hovermode": "closest",
          "mapbox": {
           "style": "light"
          },
          "paper_bgcolor": "white",
          "plot_bgcolor": "#E5ECF6",
          "polar": {
           "angularaxis": {
            "gridcolor": "white",
            "linecolor": "white",
            "ticks": ""
           },
           "bgcolor": "#E5ECF6",
           "radialaxis": {
            "gridcolor": "white",
            "linecolor": "white",
            "ticks": ""
           }
          },
          "scene": {
           "xaxis": {
            "backgroundcolor": "#E5ECF6",
            "gridcolor": "white",
            "gridwidth": 2,
            "linecolor": "white",
            "showbackground": true,
            "ticks": "",
            "zerolinecolor": "white"
           },
           "yaxis": {
            "backgroundcolor": "#E5ECF6",
            "gridcolor": "white",
            "gridwidth": 2,
            "linecolor": "white",
            "showbackground": true,
            "ticks": "",
            "zerolinecolor": "white"
           },
           "zaxis": {
            "backgroundcolor": "#E5ECF6",
            "gridcolor": "white",
            "gridwidth": 2,
            "linecolor": "white",
            "showbackground": true,
            "ticks": "",
            "zerolinecolor": "white"
           }
          },
          "shapedefaults": {
           "line": {
            "color": "#2a3f5f"
           }
          },
          "ternary": {
           "aaxis": {
            "gridcolor": "white",
            "linecolor": "white",
            "ticks": ""
           },
           "baxis": {
            "gridcolor": "white",
            "linecolor": "white",
            "ticks": ""
           },
           "bgcolor": "#E5ECF6",
           "caxis": {
            "gridcolor": "white",
            "linecolor": "white",
            "ticks": ""
           }
          },
          "title": {
           "x": 0.05
          },
          "xaxis": {
           "automargin": true,
           "gridcolor": "white",
           "linecolor": "white",
           "ticks": "",
           "title": {
            "standoff": 15
           },
           "zerolinecolor": "white",
           "zerolinewidth": 2
          },
          "yaxis": {
           "automargin": true,
           "gridcolor": "white",
           "linecolor": "white",
           "ticks": "",
           "title": {
            "standoff": 15
           },
           "zerolinecolor": "white",
           "zerolinewidth": 2
          }
         }
        },
        "title": {
         "text": "Número de Reservas por País"
        },
        "xaxis": {
         "anchor": "y",
         "domain": [
          0,
          1
         ],
         "tickangle": 45,
         "title": {
          "text": "Country"
         }
        },
        "yaxis": {
         "anchor": "x",
         "domain": [
          0,
          1
         ],
         "title": {
          "text": "Count"
         }
        }
       }
      }
     },
     "metadata": {},
     "output_type": "display_data"
    }
   ],
   "source": [
    "# Número de reservas por País\n",
    "\n",
    "# Contar o número de reservas por país\n",
    "country_counts = df['booking_origin'].value_counts()\n",
    "\n",
    "# Criar um Dataframe a partir do objeto de contagem\n",
    "df_country_counts = pd.DataFrame({'Country': country_counts.index, 'Count': country_counts.values})\n",
    "\n",
    "# gráfico de barras\n",
    "fig = px.bar(df_country_counts, x='Country', y='Count', title='Número de Reservas por País')\n",
    "fig.update_layout(xaxis_tickangle=45)\n",
    "fig.show()"
   ]
  },
  {
   "cell_type": "markdown",
   "metadata": {},
   "source": [
    "3. PRÉ-PROCESSAMENTO"
   ]
  },
  {
   "cell_type": "markdown",
   "metadata": {},
   "source": [
    "3.1 Transformar as variáveis categóricas nominais em categóricas ordinais"
   ]
  },
  {
   "cell_type": "code",
   "execution_count": 10,
   "metadata": {},
   "outputs": [],
   "source": [
    "from sklearn.preprocessing import LabelEncoder\n",
    "\n",
    "# lista das variáveis categóricas\n",
    "var_cat = ['sales_channel', 'trip_type', 'flight_day', 'route', 'booking_origin']\n",
    "\n",
    "# Aplicar LabelEncoder a cada coluna categórica\n",
    "for col in var_cat:\n",
    "    le = LabelEncoder()\n",
    "    df[col] = le.fit_transform(df[col])"
   ]
  },
  {
   "cell_type": "code",
   "execution_count": 11,
   "metadata": {},
   "outputs": [
    {
     "data": {
      "text/plain": [
       "num_passengers             int64\n",
       "sales_channel              int32\n",
       "trip_type                  int32\n",
       "purchase_lead              int64\n",
       "length_of_stay             int64\n",
       "flight_hour                int64\n",
       "flight_day                 int32\n",
       "route                      int32\n",
       "booking_origin             int32\n",
       "wants_extra_baggage        int64\n",
       "wants_preferred_seat       int64\n",
       "wants_in_flight_meals      int64\n",
       "flight_duration          float64\n",
       "booking_complete           int64\n",
       "dtype: object"
      ]
     },
     "execution_count": 11,
     "metadata": {},
     "output_type": "execute_result"
    }
   ],
   "source": [
    "# verificando os tipos de dados após a transformação\n",
    "df.dtypes"
   ]
  },
  {
   "cell_type": "markdown",
   "metadata": {},
   "source": [
    "3.2 Variáveis preditoras e alvo"
   ]
  },
  {
   "cell_type": "code",
   "execution_count": 12,
   "metadata": {},
   "outputs": [],
   "source": [
    "previsores = df.iloc[:, 0:13]\n",
    "alvo = df.iloc[:, -1]"
   ]
  },
  {
   "cell_type": "code",
   "execution_count": 13,
   "metadata": {},
   "outputs": [
    {
     "data": {
      "text/plain": [
       "((50000, 13), (50000,))"
      ]
     },
     "execution_count": 13,
     "metadata": {},
     "output_type": "execute_result"
    }
   ],
   "source": [
    "previsores.shape, alvo.shape"
   ]
  },
  {
   "cell_type": "markdown",
   "metadata": {},
   "source": [
    "3.3 Normalizar/Padronizar os dados"
   ]
  },
  {
   "cell_type": "code",
   "execution_count": 14,
   "metadata": {},
   "outputs": [],
   "source": [
    "from sklearn.preprocessing import StandardScaler\n",
    "\n",
    "previsores_esc = StandardScaler().fit_transform(previsores)"
   ]
  },
  {
   "cell_type": "markdown",
   "metadata": {},
   "source": [
    "3.4 Redução da dimensionalidade\n",
    "\n",
    "Objetivo é selecionar os melhores componentes (atributos) para treinamento do algoritmo, através da análise das correlações entre as variáveis"
   ]
  },
  {
   "cell_type": "code",
   "execution_count": 15,
   "metadata": {},
   "outputs": [],
   "source": [
    "from sklearn.decomposition import PCA"
   ]
  },
  {
   "cell_type": "code",
   "execution_count": 16,
   "metadata": {},
   "outputs": [],
   "source": [
    "pca = PCA(n_components='mle')"
   ]
  },
  {
   "cell_type": "code",
   "execution_count": 17,
   "metadata": {},
   "outputs": [],
   "source": [
    "previsores_pca = pca.fit_transform(previsores_esc)"
   ]
  },
  {
   "cell_type": "code",
   "execution_count": 18,
   "metadata": {},
   "outputs": [
    {
     "data": {
      "text/plain": [
       "array([[-1.18932526e+00, -1.82596402e+00,  7.70700017e-01, ...,\n",
       "         2.39344767e-01, -3.90154534e-01,  9.01897727e-01],\n",
       "       [-1.93898339e+00,  1.40255831e-01,  9.21451903e-01, ...,\n",
       "         8.00070392e-02,  5.51505614e-01,  1.04539315e+00],\n",
       "       [ 2.08014882e-03, -2.12065671e+00,  2.09551730e-01, ...,\n",
       "         2.81210133e-01, -7.87009983e-01,  2.43157653e+00],\n",
       "       ...,\n",
       "       [-5.88716209e-01,  1.03440216e+00, -8.07584322e-01, ...,\n",
       "        -3.43480514e-01,  1.56796690e+00, -8.94825167e-02],\n",
       "       [ 3.73615525e-01,  9.92829218e-01, -1.43694329e+00, ...,\n",
       "        -6.44118701e-01,  4.71341170e-01, -4.64036597e-01],\n",
       "       [-5.75457022e-01,  1.32006186e+00, -1.12398855e+00, ...,\n",
       "         3.04633836e-01, -8.45158776e-02,  1.72858380e+00]])"
      ]
     },
     "execution_count": 18,
     "metadata": {},
     "output_type": "execute_result"
    }
   ],
   "source": [
    "previsores_pca"
   ]
  },
  {
   "cell_type": "markdown",
   "metadata": {},
   "source": [
    "3.5 Dados de treino e teste"
   ]
  },
  {
   "cell_type": "code",
   "execution_count": 41,
   "metadata": {},
   "outputs": [],
   "source": [
    "X_train, X_test, y_train, y_test = train_test_split(previsores_esc, alvo, test_size=0.2, random_state=42)"
   ]
  },
  {
   "cell_type": "markdown",
   "metadata": {},
   "source": [
    "## 4 RANDOM FOREST"
   ]
  },
  {
   "cell_type": "markdown",
   "metadata": {},
   "source": [
    "4.1 Criar e treinar o modelo"
   ]
  },
  {
   "cell_type": "code",
   "execution_count": 42,
   "metadata": {},
   "outputs": [
    {
     "data": {
      "text/plain": [
       "RandomForestClassifier()"
      ]
     },
     "execution_count": 42,
     "metadata": {},
     "output_type": "execute_result"
    }
   ],
   "source": [
    "rnd_model = RandomForestClassifier()\n",
    "rnd_model.fit(X_train, y_train)"
   ]
  },
  {
   "cell_type": "markdown",
   "metadata": {},
   "source": [
    "4.2 Previsões com o modelo"
   ]
  },
  {
   "cell_type": "code",
   "execution_count": 43,
   "metadata": {},
   "outputs": [],
   "source": [
    "rnd_prev = rnd_model.predict(X_test)"
   ]
  },
  {
   "cell_type": "markdown",
   "metadata": {},
   "source": [
    "4.3 Avaliação do modelo"
   ]
  },
  {
   "cell_type": "code",
   "execution_count": 44,
   "metadata": {},
   "outputs": [
    {
     "name": "stdout",
     "output_type": "stream",
     "text": [
      "Acurácia: 85.64%\n",
      "\n",
      "Matriz de Confusão:\n",
      " [[8406  114]\n",
      " [1322  158]]\n",
      "\n",
      "Relatório:\n",
      "               precision    recall  f1-score   support\n",
      "\n",
      "           0       0.86      0.99      0.92      8520\n",
      "           1       0.58      0.11      0.18      1480\n",
      "\n",
      "    accuracy                           0.86     10000\n",
      "   macro avg       0.72      0.55      0.55     10000\n",
      "weighted avg       0.82      0.86      0.81     10000\n",
      "\n"
     ]
    }
   ],
   "source": [
    "print(f'Acurácia: {accuracy_score(y_test, rnd_prev) *100:.2f}%\\n')\n",
    "print(f'Matriz de Confusão:\\n {confusion_matrix(y_test, rnd_prev)}\\n')\n",
    "print(f'Relatório:\\n {classification_report(y_test, rnd_prev)}')"
   ]
  },
  {
   "cell_type": "markdown",
   "metadata": {},
   "source": [
    "4.4 Conclusão sobre o modelo \n",
    "\n",
    "Embora a acurácia geral do modelo seja relativamente alta (85.58%), a análise da matriz de confusão e do relatório de classificação revela uma clara dificuldade do modelo em identificar corretamente a classe 1 (positiva). Isso é evidenciado pelo baixo recall (0.10) e baixo F1-score (0.18) para a classe 1.\n",
    "\n",
    "Esses resultados sugerem que, apesar de o modelo ser eficaz em identificar a classe negativa, ele não é bom em detectar casos positivos, o que pode ser um problema se os casos positivos forem de particular interesse ou importância"
   ]
  },
  {
   "cell_type": "markdown",
   "metadata": {},
   "source": [
    "## 5. XGBOOST"
   ]
  },
  {
   "cell_type": "markdown",
   "metadata": {},
   "source": [
    "5.1 Criar e treinar o modelo"
   ]
  },
  {
   "cell_type": "code",
   "execution_count": 26,
   "metadata": {},
   "outputs": [
    {
     "data": {
      "text/plain": [
       "XGBRFClassifier(base_score=None, booster=None, callbacks=None,\n",
       "                colsample_bylevel=None, colsample_bytree=None, device=None,\n",
       "                early_stopping_rounds=None, enable_categorical=False,\n",
       "                eval_metric=None, feature_types=None, gamma=None,\n",
       "                grow_policy=None, importance_type=None,\n",
       "                interaction_constraints=None, learning_rate=0.05, max_bin=None,\n",
       "                max_cat_threshold=None, max_cat_to_onehot=None,\n",
       "                max_delta_step=None, max_depth=6, max_leaves=None,\n",
       "                min_child_weight=None, missing=nan, monotone_constraints=None,\n",
       "                multi_strategy=None, n_estimators=250, n_jobs=None,\n",
       "                num_parallel_tree=None, objective='binary:logistic',\n",
       "                random_state=3, ...)"
      ]
     },
     "execution_count": 26,
     "metadata": {},
     "output_type": "execute_result"
    }
   ],
   "source": [
    "xg = XGBRFClassifier(max_depth=6, learning_rate=0.05, n_estimators=250, objective='binary:logistic', random_state=3)\n",
    "xg.fit(X_train, y_train)"
   ]
  },
  {
   "cell_type": "markdown",
   "metadata": {},
   "source": [
    "5.2 Previsões"
   ]
  },
  {
   "cell_type": "code",
   "execution_count": 27,
   "metadata": {},
   "outputs": [],
   "source": [
    "xg_prev = xg.predict(X_test)"
   ]
  },
  {
   "cell_type": "markdown",
   "metadata": {},
   "source": [
    "5.3 Avaliação do modelo"
   ]
  },
  {
   "cell_type": "code",
   "execution_count": 28,
   "metadata": {},
   "outputs": [
    {
     "name": "stdout",
     "output_type": "stream",
     "text": [
      "Acurácia: 85.20%\n",
      "\n",
      "Matriz de Confusão:\n",
      " [[8520    0]\n",
      " [1480    0]]\n",
      "\n",
      "Relatório:\n",
      "               precision    recall  f1-score   support\n",
      "\n",
      "           0       0.85      1.00      0.92      8520\n",
      "           1       0.00      0.00      0.00      1480\n",
      "\n",
      "    accuracy                           0.85     10000\n",
      "   macro avg       0.43      0.50      0.46     10000\n",
      "weighted avg       0.73      0.85      0.78     10000\n",
      "\n"
     ]
    },
    {
     "name": "stderr",
     "output_type": "stream",
     "text": [
      "c:\\Users\\marce\\AppData\\Local\\Programs\\Python\\Python310\\lib\\site-packages\\sklearn\\metrics\\_classification.py:1318: UndefinedMetricWarning:\n",
      "\n",
      "Precision and F-score are ill-defined and being set to 0.0 in labels with no predicted samples. Use `zero_division` parameter to control this behavior.\n",
      "\n",
      "c:\\Users\\marce\\AppData\\Local\\Programs\\Python\\Python310\\lib\\site-packages\\sklearn\\metrics\\_classification.py:1318: UndefinedMetricWarning:\n",
      "\n",
      "Precision and F-score are ill-defined and being set to 0.0 in labels with no predicted samples. Use `zero_division` parameter to control this behavior.\n",
      "\n",
      "c:\\Users\\marce\\AppData\\Local\\Programs\\Python\\Python310\\lib\\site-packages\\sklearn\\metrics\\_classification.py:1318: UndefinedMetricWarning:\n",
      "\n",
      "Precision and F-score are ill-defined and being set to 0.0 in labels with no predicted samples. Use `zero_division` parameter to control this behavior.\n",
      "\n"
     ]
    }
   ],
   "source": [
    "print(f'Acurácia: {accuracy_score(y_test, xg_prev) *100:.2f}%\\n')\n",
    "print(f'Matriz de Confusão:\\n {confusion_matrix(y_test, xg_prev)}\\n')\n",
    "print(f'Relatório:\\n {classification_report(y_test, xg_prev)}')"
   ]
  },
  {
   "cell_type": "markdown",
   "metadata": {},
   "source": [
    "5.4 Conclusão sobre o modelo\n",
    "\n",
    "Os resultados do modelo XGBoost indicam um problema significativo de desempenho, especialmente na capacidade do modelo de identificar corretamente os casos da classe positiva(1)\n",
    "\n",
    "O modelo XGBoost, apesar de ter uma acurácia total semelhante ao Random Forest Classifier, revelou-se extremamente ineficaz para prever a classe positiva (1), não identificando corretamente nenhum caso positivo. Isso indica que o modelo é altamente enviesado para a classe mais representativa (0), possivelmente devido a um desbalanceamento significativo de classes no conjunto de dados."
   ]
  },
  {
   "cell_type": "markdown",
   "metadata": {},
   "source": [
    "## 6. CATBOOST"
   ]
  },
  {
   "cell_type": "markdown",
   "metadata": {},
   "source": [
    "6.1 Criar e treinar o modelo"
   ]
  },
  {
   "cell_type": "code",
   "execution_count": 29,
   "metadata": {},
   "outputs": [
    {
     "name": "stdout",
     "output_type": "stream",
     "text": [
      "0:\tlearn: 0.8501000\ttotal: 158ms\tremaining: 18.8s\n",
      "1:\tlearn: 0.8500500\ttotal: 167ms\tremaining: 9.83s\n",
      "2:\tlearn: 0.8500500\ttotal: 174ms\tremaining: 6.79s\n",
      "3:\tlearn: 0.8500500\ttotal: 182ms\tremaining: 5.29s\n",
      "4:\tlearn: 0.8500500\ttotal: 195ms\tremaining: 4.49s\n",
      "5:\tlearn: 0.8500500\ttotal: 198ms\tremaining: 3.76s\n",
      "6:\tlearn: 0.8500500\ttotal: 206ms\tremaining: 3.32s\n",
      "7:\tlearn: 0.8500500\ttotal: 218ms\tremaining: 3.06s\n",
      "8:\tlearn: 0.8500500\ttotal: 221ms\tremaining: 2.73s\n",
      "9:\tlearn: 0.8500500\ttotal: 228ms\tremaining: 2.51s\n",
      "10:\tlearn: 0.8500500\ttotal: 234ms\tremaining: 2.32s\n",
      "11:\tlearn: 0.8500500\ttotal: 240ms\tremaining: 2.16s\n",
      "12:\tlearn: 0.8500500\ttotal: 246ms\tremaining: 2.02s\n",
      "13:\tlearn: 0.8500500\ttotal: 252ms\tremaining: 1.91s\n",
      "14:\tlearn: 0.8500500\ttotal: 258ms\tremaining: 1.81s\n",
      "15:\tlearn: 0.8500500\ttotal: 264ms\tremaining: 1.71s\n",
      "16:\tlearn: 0.8500500\ttotal: 270ms\tremaining: 1.64s\n",
      "17:\tlearn: 0.8500500\ttotal: 277ms\tremaining: 1.57s\n",
      "18:\tlearn: 0.8501250\ttotal: 283ms\tremaining: 1.5s\n",
      "19:\tlearn: 0.8501000\ttotal: 290ms\tremaining: 1.45s\n",
      "20:\tlearn: 0.8501250\ttotal: 297ms\tremaining: 1.4s\n",
      "21:\tlearn: 0.8501000\ttotal: 303ms\tremaining: 1.35s\n",
      "22:\tlearn: 0.8501000\ttotal: 310ms\tremaining: 1.31s\n",
      "23:\tlearn: 0.8501000\ttotal: 317ms\tremaining: 1.27s\n",
      "24:\tlearn: 0.8501500\ttotal: 324ms\tremaining: 1.23s\n",
      "25:\tlearn: 0.8502000\ttotal: 331ms\tremaining: 1.2s\n",
      "26:\tlearn: 0.8501500\ttotal: 338ms\tremaining: 1.16s\n",
      "27:\tlearn: 0.8502250\ttotal: 345ms\tremaining: 1.13s\n",
      "28:\tlearn: 0.8502250\ttotal: 351ms\tremaining: 1.1s\n",
      "29:\tlearn: 0.8503000\ttotal: 358ms\tremaining: 1.07s\n",
      "30:\tlearn: 0.8502500\ttotal: 366ms\tremaining: 1.05s\n",
      "31:\tlearn: 0.8503500\ttotal: 373ms\tremaining: 1.02s\n",
      "32:\tlearn: 0.8503250\ttotal: 379ms\tremaining: 1s\n",
      "33:\tlearn: 0.8503750\ttotal: 386ms\tremaining: 977ms\n",
      "34:\tlearn: 0.8504000\ttotal: 395ms\tremaining: 960ms\n",
      "35:\tlearn: 0.8504500\ttotal: 407ms\tremaining: 949ms\n",
      "36:\tlearn: 0.8504750\ttotal: 415ms\tremaining: 931ms\n",
      "37:\tlearn: 0.8505250\ttotal: 423ms\tremaining: 912ms\n",
      "38:\tlearn: 0.8506250\ttotal: 430ms\tremaining: 892ms\n",
      "39:\tlearn: 0.8505750\ttotal: 438ms\tremaining: 877ms\n",
      "40:\tlearn: 0.8505750\ttotal: 445ms\tremaining: 857ms\n",
      "41:\tlearn: 0.8505000\ttotal: 453ms\tremaining: 842ms\n",
      "42:\tlearn: 0.8506000\ttotal: 459ms\tremaining: 822ms\n",
      "43:\tlearn: 0.8504500\ttotal: 466ms\tremaining: 806ms\n",
      "44:\tlearn: 0.8504750\ttotal: 473ms\tremaining: 789ms\n",
      "45:\tlearn: 0.8505750\ttotal: 480ms\tremaining: 772ms\n",
      "46:\tlearn: 0.8505750\ttotal: 487ms\tremaining: 756ms\n",
      "47:\tlearn: 0.8508250\ttotal: 493ms\tremaining: 739ms\n",
      "48:\tlearn: 0.8508500\ttotal: 500ms\tremaining: 725ms\n",
      "49:\tlearn: 0.8508500\ttotal: 507ms\tremaining: 709ms\n",
      "50:\tlearn: 0.8508750\ttotal: 515ms\tremaining: 696ms\n",
      "51:\tlearn: 0.8509250\ttotal: 521ms\tremaining: 681ms\n",
      "52:\tlearn: 0.8509750\ttotal: 527ms\tremaining: 667ms\n",
      "53:\tlearn: 0.8511000\ttotal: 535ms\tremaining: 654ms\n",
      "54:\tlearn: 0.8510750\ttotal: 543ms\tremaining: 642ms\n",
      "55:\tlearn: 0.8511250\ttotal: 551ms\tremaining: 630ms\n",
      "56:\tlearn: 0.8511250\ttotal: 559ms\tremaining: 618ms\n",
      "57:\tlearn: 0.8511000\ttotal: 566ms\tremaining: 605ms\n",
      "58:\tlearn: 0.8511750\ttotal: 572ms\tremaining: 591ms\n",
      "59:\tlearn: 0.8512000\ttotal: 580ms\tremaining: 580ms\n",
      "60:\tlearn: 0.8513000\ttotal: 586ms\tremaining: 566ms\n",
      "61:\tlearn: 0.8513500\ttotal: 592ms\tremaining: 554ms\n",
      "62:\tlearn: 0.8514000\ttotal: 598ms\tremaining: 541ms\n",
      "63:\tlearn: 0.8514000\ttotal: 601ms\tremaining: 526ms\n",
      "64:\tlearn: 0.8514500\ttotal: 609ms\tremaining: 515ms\n",
      "65:\tlearn: 0.8513250\ttotal: 616ms\tremaining: 504ms\n",
      "66:\tlearn: 0.8514000\ttotal: 623ms\tremaining: 493ms\n",
      "67:\tlearn: 0.8514000\ttotal: 629ms\tremaining: 481ms\n",
      "68:\tlearn: 0.8513500\ttotal: 635ms\tremaining: 469ms\n",
      "69:\tlearn: 0.8514500\ttotal: 643ms\tremaining: 459ms\n",
      "70:\tlearn: 0.8515000\ttotal: 648ms\tremaining: 448ms\n",
      "71:\tlearn: 0.8514750\ttotal: 655ms\tremaining: 436ms\n",
      "72:\tlearn: 0.8513500\ttotal: 662ms\tremaining: 426ms\n",
      "73:\tlearn: 0.8515000\ttotal: 669ms\tremaining: 416ms\n",
      "74:\tlearn: 0.8518000\ttotal: 677ms\tremaining: 406ms\n",
      "75:\tlearn: 0.8520500\ttotal: 683ms\tremaining: 396ms\n",
      "76:\tlearn: 0.8520500\ttotal: 690ms\tremaining: 385ms\n",
      "77:\tlearn: 0.8520500\ttotal: 697ms\tremaining: 375ms\n",
      "78:\tlearn: 0.8522250\ttotal: 702ms\tremaining: 365ms\n",
      "79:\tlearn: 0.8521500\ttotal: 711ms\tremaining: 355ms\n",
      "80:\tlearn: 0.8523250\ttotal: 717ms\tremaining: 345ms\n",
      "81:\tlearn: 0.8522750\ttotal: 724ms\tremaining: 335ms\n",
      "82:\tlearn: 0.8521500\ttotal: 730ms\tremaining: 325ms\n",
      "83:\tlearn: 0.8523250\ttotal: 736ms\tremaining: 316ms\n",
      "84:\tlearn: 0.8523000\ttotal: 743ms\tremaining: 306ms\n",
      "85:\tlearn: 0.8523750\ttotal: 748ms\tremaining: 296ms\n",
      "86:\tlearn: 0.8523500\ttotal: 755ms\tremaining: 286ms\n",
      "87:\tlearn: 0.8523750\ttotal: 761ms\tremaining: 277ms\n",
      "88:\tlearn: 0.8523500\ttotal: 767ms\tremaining: 267ms\n",
      "89:\tlearn: 0.8525250\ttotal: 775ms\tremaining: 258ms\n",
      "90:\tlearn: 0.8525500\ttotal: 782ms\tremaining: 249ms\n",
      "91:\tlearn: 0.8525750\ttotal: 791ms\tremaining: 241ms\n",
      "92:\tlearn: 0.8526250\ttotal: 800ms\tremaining: 232ms\n",
      "93:\tlearn: 0.8527000\ttotal: 807ms\tremaining: 223ms\n",
      "94:\tlearn: 0.8527000\ttotal: 814ms\tremaining: 214ms\n",
      "95:\tlearn: 0.8527250\ttotal: 822ms\tremaining: 206ms\n",
      "96:\tlearn: 0.8527000\ttotal: 828ms\tremaining: 196ms\n",
      "97:\tlearn: 0.8526500\ttotal: 837ms\tremaining: 188ms\n",
      "98:\tlearn: 0.8526750\ttotal: 843ms\tremaining: 179ms\n",
      "99:\tlearn: 0.8526250\ttotal: 851ms\tremaining: 170ms\n",
      "100:\tlearn: 0.8526250\ttotal: 858ms\tremaining: 161ms\n",
      "101:\tlearn: 0.8527000\ttotal: 866ms\tremaining: 153ms\n",
      "102:\tlearn: 0.8528250\ttotal: 873ms\tremaining: 144ms\n",
      "103:\tlearn: 0.8529750\ttotal: 882ms\tremaining: 136ms\n",
      "104:\tlearn: 0.8530250\ttotal: 890ms\tremaining: 127ms\n",
      "105:\tlearn: 0.8530000\ttotal: 898ms\tremaining: 119ms\n",
      "106:\tlearn: 0.8531000\ttotal: 905ms\tremaining: 110ms\n",
      "107:\tlearn: 0.8533000\ttotal: 912ms\tremaining: 101ms\n",
      "108:\tlearn: 0.8533250\ttotal: 919ms\tremaining: 92.8ms\n",
      "109:\tlearn: 0.8533500\ttotal: 926ms\tremaining: 84.1ms\n",
      "110:\tlearn: 0.8533000\ttotal: 936ms\tremaining: 75.9ms\n",
      "111:\tlearn: 0.8533250\ttotal: 941ms\tremaining: 67.2ms\n",
      "112:\tlearn: 0.8533500\ttotal: 948ms\tremaining: 58.7ms\n",
      "113:\tlearn: 0.8533750\ttotal: 954ms\tremaining: 50.2ms\n",
      "114:\tlearn: 0.8534750\ttotal: 959ms\tremaining: 41.7ms\n",
      "115:\tlearn: 0.8535250\ttotal: 966ms\tremaining: 33.3ms\n",
      "116:\tlearn: 0.8535250\ttotal: 971ms\tremaining: 24.9ms\n",
      "117:\tlearn: 0.8535250\ttotal: 978ms\tremaining: 16.6ms\n",
      "118:\tlearn: 0.8536250\ttotal: 985ms\tremaining: 8.27ms\n",
      "119:\tlearn: 0.8537250\ttotal: 990ms\tremaining: 0us\n"
     ]
    },
    {
     "data": {
      "text/plain": [
       "<catboost.core.CatBoostClassifier at 0x1f087a50820>"
      ]
     },
     "execution_count": 29,
     "metadata": {},
     "output_type": "execute_result"
    }
   ],
   "source": [
    "cat = CatBoostClassifier(task_type='CPU', iterations=120, learning_rate=0.1, depth=8, random_state=5, eval_metric='Accuracy')\n",
    "cat.fit(X_train, y_train)"
   ]
  },
  {
   "cell_type": "markdown",
   "metadata": {},
   "source": [
    "5.2 Previsões"
   ]
  },
  {
   "cell_type": "code",
   "execution_count": 30,
   "metadata": {},
   "outputs": [],
   "source": [
    "cat_prev = cat.predict(X_test)"
   ]
  },
  {
   "cell_type": "markdown",
   "metadata": {},
   "source": [
    "5.3 Avaliação "
   ]
  },
  {
   "cell_type": "code",
   "execution_count": 31,
   "metadata": {},
   "outputs": [
    {
     "name": "stdout",
     "output_type": "stream",
     "text": [
      "Acurácia: 85.31%\n",
      "\n",
      "Matriz de Confusão:\n",
      " [[8483   37]\n",
      " [1432   48]]\n",
      "\n",
      "Relatório:\n",
      "               precision    recall  f1-score   support\n",
      "\n",
      "           0       0.86      1.00      0.92      8520\n",
      "           1       0.56      0.03      0.06      1480\n",
      "\n",
      "    accuracy                           0.85     10000\n",
      "   macro avg       0.71      0.51      0.49     10000\n",
      "weighted avg       0.81      0.85      0.79     10000\n",
      "\n"
     ]
    }
   ],
   "source": [
    "print(f'Acurácia: {accuracy_score(y_test, cat_prev) *100:.2f}%\\n')\n",
    "print(f'Matriz de Confusão:\\n {confusion_matrix(y_test, cat_prev)}\\n')\n",
    "print(f'Relatório:\\n {classification_report(y_test, cat_prev)}')"
   ]
  },
  {
   "cell_type": "markdown",
   "metadata": {},
   "source": [
    "Concluindo, parece haver classes desbalancedas nesse conjunto de dados e os 3 algoritmos usados (random forest, xgboost e catboos) não lidam muito bem com elas, então vou optar por usar o BalancedRandomForestClassifier, que é uma implementação do Random Forest que lida automaticamente com o desbalanceamento de classes, ajustando os pesos das classes durante o treinamento."
   ]
  },
  {
   "cell_type": "code",
   "execution_count": 45,
   "metadata": {},
   "outputs": [],
   "source": [
    "from imblearn.ensemble import BalancedRandomForestClassifier"
   ]
  },
  {
   "cell_type": "code",
   "execution_count": 46,
   "metadata": {},
   "outputs": [
    {
     "name": "stderr",
     "output_type": "stream",
     "text": [
      "c:\\Users\\marce\\AppData\\Local\\Programs\\Python\\Python310\\lib\\site-packages\\imblearn\\ensemble\\_forest.py:546: FutureWarning:\n",
      "\n",
      "The default of `sampling_strategy` will change from `'auto'` to `'all'` in version 0.13. This change will follow the implementation proposed in the original paper. Set to `'all'` to silence this warning and adopt the future behaviour.\n",
      "\n",
      "c:\\Users\\marce\\AppData\\Local\\Programs\\Python\\Python310\\lib\\site-packages\\imblearn\\ensemble\\_forest.py:558: FutureWarning:\n",
      "\n",
      "The default of `replacement` will change from `False` to `True` in version 0.13. This change will follow the implementation proposed in the original paper. Set to `True` to silence this warning and adopt the future behaviour.\n",
      "\n"
     ]
    },
    {
     "name": "stdout",
     "output_type": "stream",
     "text": [
      "[[5755 2765]\n",
      " [ 336 1144]]\n",
      "              precision    recall  f1-score   support\n",
      "\n",
      "           0       0.94      0.68      0.79      8520\n",
      "           1       0.29      0.77      0.42      1480\n",
      "\n",
      "    accuracy                           0.69     10000\n",
      "   macro avg       0.62      0.72      0.61     10000\n",
      "weighted avg       0.85      0.69      0.73     10000\n",
      "\n"
     ]
    }
   ],
   "source": [
    "# Inicialize o BalancedRandomForestClassifier\n",
    "brf = BalancedRandomForestClassifier(n_estimators=100, random_state=42)\n",
    "\n",
    "# Treine o modelo\n",
    "brf.fit(X_train, y_train)\n",
    "\n",
    "# Faça previsões\n",
    "y_pred = brf.predict(X_test)\n",
    "\n",
    "# Avalie o modelo\n",
    "print(confusion_matrix(y_test, y_pred))\n",
    "print(classification_report(y_test, y_pred))"
   ]
  },
  {
   "cell_type": "markdown",
   "metadata": {},
   "source": [
    "Conclusão \n",
    "\n",
    "A aplicação do BalancedRandomForestClassifier alterou significativamente o equilíbrio entre precisão e recall, favorecendo a detecção da classe minoritária. Isso é evidenciado pelo aumento no recall da classe 1 para 0.77, um indicativo de que o modelo se tornou muito mais eficaz em identificar a classe minoritária, embora à custa de um aumento nos falsos positivos (como visto no FP para a classe 0).\n",
    "\n",
    "A acurácia geral do modelo diminuiu para 69%, o que reflete o compromisso entre aumentar a detecção da classe minoritária e manter a precisão geral\n",
    "\n",
    "Embora o BalancedRandomForestClassifier tenha diminuído a acurácia geral, ele conseguiu melhorar significativamente a identificação da classe minoritária."
   ]
  }
 ],
 "metadata": {
  "kernelspec": {
   "display_name": "Python 3",
   "language": "python",
   "name": "python3"
  },
  "language_info": {
   "codemirror_mode": {
    "name": "ipython",
    "version": 3
   },
   "file_extension": ".py",
   "mimetype": "text/x-python",
   "name": "python",
   "nbconvert_exporter": "python",
   "pygments_lexer": "ipython3",
   "version": "3.10.1"
  }
 },
 "nbformat": 4,
 "nbformat_minor": 2
}
